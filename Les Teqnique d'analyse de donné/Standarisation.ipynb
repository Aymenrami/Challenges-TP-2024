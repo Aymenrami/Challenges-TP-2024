{
 "cells": [
  {
   "cell_type": "code",
   "execution_count": 23,
   "id": "455b72b4-8767-46ac-a746-b3873f844a48",
   "metadata": {},
   "outputs": [],
   "source": [
    "from sklearn.datasets import load_breast_cancer\n",
    "from sklearn.preprocessing import StandardScaler\n",
    "import matplotlib.pyplot as plt\n",
    "import seaborn as sns"
   ]
  },
  {
   "cell_type": "code",
   "execution_count": 6,
   "id": "9ac11d0e-ada2-4239-9e3e-eb463cfe914c",
   "metadata": {},
   "outputs": [],
   "source": [
    "data = load_breast_cancer()"
   ]
  },
  {
   "cell_type": "code",
   "execution_count": 7,
   "id": "6c464794-f619-4fb9-83ee-a88d32d77c7b",
   "metadata": {},
   "outputs": [],
   "source": [
    "X = data.data"
   ]
  },
  {
   "cell_type": "code",
   "execution_count": 8,
   "id": "b1c4a930-b69e-4a09-b1cd-54a9479a8362",
   "metadata": {},
   "outputs": [],
   "source": [
    "y=data.target"
   ]
  },
  {
   "cell_type": "code",
   "execution_count": 9,
   "id": "4b8881b9-b160-43f6-b7c9-0c233f474396",
   "metadata": {},
   "outputs": [],
   "source": [
    "scaler = StandardScaler()"
   ]
  },
  {
   "cell_type": "code",
   "execution_count": 11,
   "id": "f862ebbb-f61b-4a7a-9cca-77e3fa58bc11",
   "metadata": {},
   "outputs": [],
   "source": [
    "X_standardized = scaler.fit_transform(X)"
   ]
  },
  {
   "cell_type": "code",
   "execution_count": 16,
   "id": "be4e4f96-78ab-4d67-af33-08cf78c297a3",
   "metadata": {},
   "outputs": [],
   "source": [
    "df_standardized = pd.DataFrame(X_standardized, columns=data.feature_names)"
   ]
  },
  {
   "cell_type": "code",
   "execution_count": 20,
   "id": "643c9015-4071-4cec-833c-8b29b3eb7a3d",
   "metadata": {},
   "outputs": [],
   "source": [
    "mean_values = df_standardized.mean()\n",
    "std_values = df_standardized.std()"
   ]
  },
  {
   "cell_type": "code",
   "execution_count": 24,
   "id": "99cdd3f3-ef1c-4485-9abf-7dd7524dda69",
   "metadata": {},
   "outputs": [
    {
     "name": "stdout",
     "output_type": "stream",
     "text": [
      "                                 Mean  Standard Deviation\n",
      "mean radius             -3.162867e-15             1.00088\n",
      "mean texture            -6.530609e-15             1.00088\n",
      "mean perimeter          -7.078891e-16             1.00088\n",
      "mean area               -8.799835e-16             1.00088\n",
      "mean smoothness          6.132177e-15             1.00088\n",
      "mean compactness        -1.120369e-15             1.00088\n",
      "mean concavity          -4.421380e-16             1.00088\n",
      "mean concave points      9.732500e-16             1.00088\n",
      "mean symmetry           -1.971670e-15             1.00088\n",
      "mean fractal dimension  -1.453631e-15             1.00088\n",
      "radius error            -9.076415e-16             1.00088\n",
      "texture error           -8.853492e-16             1.00088\n",
      "perimeter error          1.773674e-15             1.00088\n",
      "area error              -8.291551e-16             1.00088\n",
      "smoothness error        -7.541809e-16             1.00088\n",
      "compactness error       -3.921877e-16             1.00088\n",
      "concavity error          7.917900e-16             1.00088\n",
      "concave points error    -2.739461e-16             1.00088\n",
      "symmetry error          -3.108234e-16             1.00088\n",
      "fractal dimension error -3.366766e-16             1.00088\n",
      "worst radius            -2.333224e-15             1.00088\n",
      "worst texture            1.763674e-15             1.00088\n",
      "worst perimeter         -1.198026e-15             1.00088\n",
      "worst area               5.049661e-16             1.00088\n",
      "worst smoothness        -5.213170e-15             1.00088\n",
      "worst compactness       -2.174788e-15             1.00088\n",
      "worst concavity          6.856456e-16             1.00088\n",
      "worst concave points    -1.412656e-16             1.00088\n",
      "worst symmetry          -2.289567e-15             1.00088\n",
      "worst fractal dimension  2.575171e-15             1.00088\n"
     ]
    }
   ],
   "source": [
    "import pandas as pd\n",
    "summary_table = pd.DataFrame({\n",
    "    'Mean': mean_values,\n",
    "    'Standard Deviation': std_values\n",
    "})\n",
    "print(summary_table)"
   ]
  }
 ],
 "metadata": {
  "kernelspec": {
   "display_name": "Python 3 (ipykernel)",
   "language": "python",
   "name": "python3"
  },
  "language_info": {
   "codemirror_mode": {
    "name": "ipython",
    "version": 3
   },
   "file_extension": ".py",
   "mimetype": "text/x-python",
   "name": "python",
   "nbconvert_exporter": "python",
   "pygments_lexer": "ipython3",
   "version": "3.12.7"
  }
 },
 "nbformat": 4,
 "nbformat_minor": 5
}
