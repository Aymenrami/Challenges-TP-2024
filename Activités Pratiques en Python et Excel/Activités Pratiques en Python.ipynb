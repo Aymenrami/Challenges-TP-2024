{
 "cells": [
  {
   "cell_type": "code",
   "execution_count": 2,
   "id": "b2a2b797-da53-4ba3-b1a9-622957e3aefd",
   "metadata": {},
   "outputs": [],
   "source": [
    "import numpy as np\n",
    "import pandas as pd"
   ]
  },
  {
   "cell_type": "code",
   "execution_count": 3,
   "id": "8f46ad96-7053-430b-8be1-c1f6f22376c9",
   "metadata": {},
   "outputs": [],
   "source": [
    "list =  [12, 15, 14, 17, 21, 24, 28, 26, 22, 19, 16, 13]"
   ]
  },
  {
   "cell_type": "code",
   "execution_count": 4,
   "id": "376fe251-0637-4f86-9766-1180b1171e72",
   "metadata": {},
   "outputs": [
    {
     "name": "stdout",
     "output_type": "stream",
     "text": [
      "Etendue de La List est : 16\n"
     ]
    }
   ],
   "source": [
    "#1. Étendue\n",
    "MAX=max(list) \n",
    "MIN=min(list)\n",
    "Etendue =  MAX - MIN\n",
    "print(\"Etendue de La List est :\",Etendue)"
   ]
  },
  {
   "cell_type": "code",
   "execution_count": 5,
   "id": "b9a2ab3a-9919-4f81-b45e-22759c943e2f",
   "metadata": {},
   "outputs": [
    {
     "name": "stdout",
     "output_type": "stream",
     "text": [
      " La Variance de DEV103 est : 1.3400000000000003\n",
      " La Variance de DEV105 est : 1.6475000000000002\n"
     ]
    }
   ],
   "source": [
    "#2. Variance\n",
    "DEV103 = [18, 19, 17, 20, 18, 19, 17, 18, 20, 19, 16, 20, 17, 19, 18, 20, 19, 17, 19, 18]\n",
    "DEV105 = [12, 14, 13, 15, 11, 13, 14, 12, 15, 13, 11, 12, 14, 13, 12, 11, 15, 13, 14, 12]\n",
    "print(\" La Variance de DEV103 est :\",np.var(DEV103))\n",
    "print(\" La Variance de DEV105 est :\",np.var(DEV105))"
   ]
  },
  {
   "cell_type": "code",
   "execution_count": 6,
   "id": "15f5293c-8d2f-486a-90e5-8d253abdbf2d",
   "metadata": {},
   "outputs": [
    {
     "data": {
      "text/html": [
       "<div>\n",
       "<style scoped>\n",
       "    .dataframe tbody tr th:only-of-type {\n",
       "        vertical-align: middle;\n",
       "    }\n",
       "\n",
       "    .dataframe tbody tr th {\n",
       "        vertical-align: top;\n",
       "    }\n",
       "\n",
       "    .dataframe thead th {\n",
       "        text-align: right;\n",
       "    }\n",
       "</style>\n",
       "<table border=\"1\" class=\"dataframe\">\n",
       "  <thead>\n",
       "    <tr style=\"text-align: right;\">\n",
       "      <th></th>\n",
       "      <th>Poste</th>\n",
       "      <th>Salaire Mensuel (en MAD)</th>\n",
       "    </tr>\n",
       "  </thead>\n",
       "  <tbody>\n",
       "    <tr>\n",
       "      <th>0</th>\n",
       "      <td>Ingénieur Senior</td>\n",
       "      <td>12986</td>\n",
       "    </tr>\n",
       "    <tr>\n",
       "      <th>1</th>\n",
       "      <td>Ingénieur Confirmé</td>\n",
       "      <td>11458</td>\n",
       "    </tr>\n",
       "    <tr>\n",
       "      <th>2</th>\n",
       "      <td>Ingénieur Junior</td>\n",
       "      <td>9167</td>\n",
       "    </tr>\n",
       "    <tr>\n",
       "      <th>3</th>\n",
       "      <td>Ingénieur Débutant</td>\n",
       "      <td>7639</td>\n",
       "    </tr>\n",
       "    <tr>\n",
       "      <th>4</th>\n",
       "      <td>Ingénieur en Formation</td>\n",
       "      <td>6875</td>\n",
       "    </tr>\n",
       "    <tr>\n",
       "      <th>5</th>\n",
       "      <td>Technicien Expert</td>\n",
       "      <td>6111</td>\n",
       "    </tr>\n",
       "    <tr>\n",
       "      <th>6</th>\n",
       "      <td>Technicien Senior</td>\n",
       "      <td>5347</td>\n",
       "    </tr>\n",
       "    <tr>\n",
       "      <th>7</th>\n",
       "      <td>Technicien Confirmé</td>\n",
       "      <td>4583</td>\n",
       "    </tr>\n",
       "    <tr>\n",
       "      <th>8</th>\n",
       "      <td>Technicien Junior</td>\n",
       "      <td>3820</td>\n",
       "    </tr>\n",
       "    <tr>\n",
       "      <th>9</th>\n",
       "      <td>Technicien Débutant</td>\n",
       "      <td>3361</td>\n",
       "    </tr>\n",
       "    <tr>\n",
       "      <th>10</th>\n",
       "      <td>Technicien en Formation</td>\n",
       "      <td>3056</td>\n",
       "    </tr>\n",
       "    <tr>\n",
       "      <th>11</th>\n",
       "      <td>Assistant Technique</td>\n",
       "      <td>2750</td>\n",
       "    </tr>\n",
       "    <tr>\n",
       "      <th>12</th>\n",
       "      <td>Apprenti Technicien</td>\n",
       "      <td>2445</td>\n",
       "    </tr>\n",
       "    <tr>\n",
       "      <th>13</th>\n",
       "      <td>Stagiaire Technique</td>\n",
       "      <td>1667</td>\n",
       "    </tr>\n",
       "  </tbody>\n",
       "</table>\n",
       "</div>"
      ],
      "text/plain": [
       "                      Poste  Salaire Mensuel (en MAD)\n",
       "0          Ingénieur Senior                     12986\n",
       "1        Ingénieur Confirmé                     11458\n",
       "2          Ingénieur Junior                      9167\n",
       "3        Ingénieur Débutant                      7639\n",
       "4    Ingénieur en Formation                      6875\n",
       "5         Technicien Expert                      6111\n",
       "6         Technicien Senior                      5347\n",
       "7       Technicien Confirmé                      4583\n",
       "8         Technicien Junior                      3820\n",
       "9       Technicien Débutant                      3361\n",
       "10  Technicien en Formation                      3056\n",
       "11      Assistant Technique                      2750\n",
       "12      Apprenti Technicien                      2445\n",
       "13      Stagiaire Technique                      1667"
      ]
     },
     "execution_count": 6,
     "metadata": {},
     "output_type": "execute_result"
    }
   ],
   "source": [
    "data = {\n",
    "    'Poste': ['Ingénieur Senior', 'Ingénieur Confirmé', 'Ingénieur Junior', 'Ingénieur Débutant', 'Ingénieur en Formation',\n",
    "              'Technicien Expert', 'Technicien Senior', 'Technicien Confirmé', 'Technicien Junior', 'Technicien Débutant',\n",
    "              'Technicien en Formation', 'Assistant Technique', 'Apprenti Technicien', 'Stagiaire Technique'],\n",
    "    'Salaire Mensuel (en MAD)': [12986, 11458, 9167, 7639, 6875, 6111, 5347, 4583, 3820, 3361, 3056, 2750, 2445, 1667]\n",
    "}\n",
    "\n",
    "df = pd.DataFrame(data)\n",
    "df"
   ]
  },
  {
   "cell_type": "code",
   "execution_count": 7,
   "id": "8e9f521e-50ab-400d-8fd1-80f304d2d119",
   "metadata": {},
   "outputs": [
    {
     "name": "stdout",
     "output_type": "stream",
     "text": [
      "Écart-type est : 3341.806432095048\n"
     ]
    }
   ],
   "source": [
    "print(\"Écart-type est :\",np.std(df['Salaire Mensuel (en MAD)']))"
   ]
  },
  {
   "cell_type": "code",
   "execution_count": 8,
   "id": "a1a75147-f818-4ed1-a7a3-9d5cd54b1395",
   "metadata": {},
   "outputs": [
    {
     "name": "stdout",
     "output_type": "stream",
     "text": [
      "Quartiles est : [3132.25 4965.   7448.  ]\n"
     ]
    }
   ],
   "source": [
    "quartiles = np.percentile(df['Salaire Mensuel (en MAD)'], [25, 50, 75])\n",
    "print(\"Quartiles est :\", quartiles)"
   ]
  },
  {
   "cell_type": "code",
   "execution_count": 12,
   "id": "25075b48-8b25-43dd-9e95-8be8ff66153f",
   "metadata": {},
   "outputs": [
    {
     "data": {
      "text/html": [
       "<div>\n",
       "<style scoped>\n",
       "    .dataframe tbody tr th:only-of-type {\n",
       "        vertical-align: middle;\n",
       "    }\n",
       "\n",
       "    .dataframe tbody tr th {\n",
       "        vertical-align: top;\n",
       "    }\n",
       "\n",
       "    .dataframe thead th {\n",
       "        text-align: right;\n",
       "    }\n",
       "</style>\n",
       "<table border=\"1\" class=\"dataframe\">\n",
       "  <thead>\n",
       "    <tr style=\"text-align: right;\">\n",
       "      <th></th>\n",
       "      <th>Profession</th>\n",
       "      <th>revenu mensuel min</th>\n",
       "      <th>revenu mensuel max</th>\n",
       "    </tr>\n",
       "  </thead>\n",
       "  <tbody>\n",
       "    <tr>\n",
       "      <th>0</th>\n",
       "      <td>Salarié dans le secteur public (fonctionnaire)</td>\n",
       "      <td>4000</td>\n",
       "      <td>12000</td>\n",
       "    </tr>\n",
       "    <tr>\n",
       "      <th>1</th>\n",
       "      <td>Employé dans le secteur privé (niveau débutant)</td>\n",
       "      <td>5000</td>\n",
       "      <td>8000</td>\n",
       "    </tr>\n",
       "    <tr>\n",
       "      <th>2</th>\n",
       "      <td>Employé dans le secteur privé (niveau interméd...</td>\n",
       "      <td>8000</td>\n",
       "      <td>15000</td>\n",
       "    </tr>\n",
       "    <tr>\n",
       "      <th>3</th>\n",
       "      <td>Employé dans le secteur privé (niveau senior)</td>\n",
       "      <td>15000</td>\n",
       "      <td>30000</td>\n",
       "    </tr>\n",
       "    <tr>\n",
       "      <th>4</th>\n",
       "      <td>Médecin généraliste</td>\n",
       "      <td>20000</td>\n",
       "      <td>50000</td>\n",
       "    </tr>\n",
       "  </tbody>\n",
       "</table>\n",
       "</div>"
      ],
      "text/plain": [
       "                                          Profession  revenu mensuel min  \\\n",
       "0     Salarié dans le secteur public (fonctionnaire)                4000   \n",
       "1    Employé dans le secteur privé (niveau débutant)                5000   \n",
       "2  Employé dans le secteur privé (niveau interméd...                8000   \n",
       "3      Employé dans le secteur privé (niveau senior)               15000   \n",
       "4                                Médecin généraliste               20000   \n",
       "\n",
       "   revenu mensuel max  \n",
       "0               12000  \n",
       "1                8000  \n",
       "2               15000  \n",
       "3               30000  \n",
       "4               50000  "
      ]
     },
     "execution_count": 12,
     "metadata": {},
     "output_type": "execute_result"
    }
   ],
   "source": [
    "df = pd.read_excel(r\"C:\\Users\\Lenovo\\Desktop\\Project Aymen\\Les TP\\Activités Pratiques en Python et Excel\\Table.xlsx\")\n",
    "df.head(5)"
   ]
  },
  {
   "cell_type": "code",
   "execution_count": 27,
   "id": "9061a01a-5ad6-46a1-a8fd-974894050400",
   "metadata": {},
   "outputs": [
    {
     "name": "stdout",
     "output_type": "stream",
     "text": [
      "Deciles revenu mensuel max : [ 3000.  6000.  8000. 10000. 10000. 12000. 12000. 15000. 15000. 20000.\n",
      " 30000.]\n",
      "Decile de revenu mensuel min :  [ 8000. 12000. 19200. 20000. 25000. 25000. 25000. 30000. 30000. 40000.\n",
      " 80000.]\n"
     ]
    }
   ],
   "source": [
    "deciles_Min = np.percentile(df['revenu mensuel min'], np.arange(0, 101, 10))\n",
    "deciles_Max = np.percentile(df['revenu mensuel max'], np.arange(0, 101, 10))\n",
    "print(\"Deciles revenu mensuel max :\" ,deciles_Min)\n",
    "print(\"Decile de revenu mensuel min : \", deciles_Max)"
   ]
  },
  {
   "cell_type": "code",
   "execution_count": null,
   "id": "34e3f4ff-d63a-4bd5-8e2a-0b57b020c3f6",
   "metadata": {},
   "outputs": [],
   "source": [
    " "
   ]
  },
  {
   "cell_type": "code",
   "execution_count": null,
   "id": "2f3899a2-b1a8-486a-8b6e-141e727860ec",
   "metadata": {},
   "outputs": [],
   "source": []
  }
 ],
 "metadata": {
  "kernelspec": {
   "display_name": "Python 3 (ipykernel)",
   "language": "python",
   "name": "python3"
  },
  "language_info": {
   "codemirror_mode": {
    "name": "ipython",
    "version": 3
   },
   "file_extension": ".py",
   "mimetype": "text/x-python",
   "name": "python",
   "nbconvert_exporter": "python",
   "pygments_lexer": "ipython3",
   "version": "3.12.4"
  }
 },
 "nbformat": 4,
 "nbformat_minor": 5
}
